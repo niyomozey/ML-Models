{
 "cells": [
  {
   "cell_type": "markdown",
   "id": "f8e505cd",
   "metadata": {},
   "source": [
    "## Dependencies"
   ]
  },
  {
   "cell_type": "code",
   "execution_count": 2,
   "id": "19d8119e",
   "metadata": {},
   "outputs": [],
   "source": [
    "import pandas as pd\n",
    "from sklearn.linear_model import LinearRegression\n",
    "from sklearn.ensemble import RandomForestRegressor\n",
    "from sklearn.model_selection import train_test_split\n",
    "from sklearn.metrics import mean_squared_error, r2_score\n",
    "import numpy as np\n",
    "import matplotlib.pyplot as plt\n",
    "import os                       # for working with files\n",
    "import os\n",
    "from PIL import Image\n",
    "import numpy as np"
   ]
  },
  {
   "cell_type": "code",
   "execution_count": 3,
   "id": "a75e73f3",
   "metadata": {},
   "outputs": [
    {
     "name": "stdout",
     "output_type": "stream",
     "text": [
      "2.1.1+cpu\n",
      "False\n"
     ]
    }
   ],
   "source": [
    "# Verify if torch is installed\n",
    "import torch\n",
    "print(torch.__version__)\n",
    "print(torch.cuda.is_available())"
   ]
  },
  {
   "cell_type": "markdown",
   "id": "b16179bf",
   "metadata": {},
   "source": [
    "#  Explore the dataset"
   ]
  },
  {
   "cell_type": "markdown",
   "id": "4fc50ec0",
   "metadata": {},
   "source": [
    "###  Load the dataset"
   ]
  },
  {
   "cell_type": "code",
   "execution_count": 12,
   "id": "67d90de7",
   "metadata": {},
   "outputs": [
    {
     "data": {
      "text/plain": [
       "[['anthracnose', 'gumosis', 'healthy', 'leaf miner', 'red rust'],\n",
       " ['bacterial blight', 'brown spot', 'green mite', 'healthy', 'mosaic'],\n",
       " ['fall armyworm',\n",
       "  'grasshoper',\n",
       "  'healthy',\n",
       "  'leaf beetle',\n",
       "  'leaf blight',\n",
       "  'leaf spot',\n",
       "  'streak virus'],\n",
       " ['healthy',\n",
       "  'leaf blight',\n",
       "  'leaf curl',\n",
       "  'septoria leaf spot',\n",
       "  'verticulium wilt']]"
      ]
     },
     "execution_count": 12,
     "metadata": {},
     "output_type": "execute_result"
    }
   ],
   "source": [
    "data_dir = './Dataset for Crop Pest and Disease Detection/CCMT Dataset-Augmented'\n",
    "data = os.listdir(data_dir)\n",
    "diseases = []\n",
    "for crop in data:\n",
    "    if os.path.isdir(data_dir+'/'+crop):\n",
    "        diseases.append(os.listdir(data_dir+'/'+crop+'/test_set'))\n",
    "diseases"
   ]
  },
  {
   "cell_type": "code",
   "execution_count": 13,
   "id": "9677a37a",
   "metadata": {},
   "outputs": [
    {
     "name": "stdout",
     "output_type": "stream",
     "text": [
      "Total disease classes are: 4\n"
     ]
    }
   ],
   "source": [
    "print(\"Total disease classes are: {}\".format(len(diseases)))"
   ]
  },
  {
   "cell_type": "code",
   "execution_count": null,
   "id": "f78132a8",
   "metadata": {},
   "outputs": [],
   "source": []
  }
 ],
 "metadata": {
  "kernelspec": {
   "display_name": "Python 3 (ipykernel)",
   "language": "python",
   "name": "python3"
  },
  "language_info": {
   "codemirror_mode": {
    "name": "ipython",
    "version": 3
   },
   "file_extension": ".py",
   "mimetype": "text/x-python",
   "name": "python",
   "nbconvert_exporter": "python",
   "pygments_lexer": "ipython3",
   "version": "3.9.12"
  }
 },
 "nbformat": 4,
 "nbformat_minor": 5
}
