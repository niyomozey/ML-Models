{
 "cells": [
  {
   "cell_type": "markdown",
   "id": "f8e505cd",
   "metadata": {},
   "source": [
    "## Dependencies"
   ]
  },
  {
   "cell_type": "code",
   "execution_count": 4,
   "id": "43bcb860",
   "metadata": {},
   "outputs": [
    {
     "name": "stdout",
     "output_type": "stream",
     "text": [
      "^C\n"
     ]
    },
    {
     "name": "stdout",
     "output_type": "stream",
     "text": [
      "Requirement already satisfied: torch==2.1.1 in c:\\users\\moise niyonkuru\\anaconda3\\lib\\site-packages (2.1.1)\n",
      "Requirement already satisfied: filelock in c:\\users\\moise niyonkuru\\anaconda3\\lib\\site-packages (from torch==2.1.1) (3.6.0)\n",
      "Requirement already satisfied: fsspec in c:\\users\\moise niyonkuru\\anaconda3\\lib\\site-packages (from torch==2.1.1) (2022.2.0)\n",
      "Requirement already satisfied: jinja2 in c:\\users\\moise niyonkuru\\anaconda3\\lib\\site-packages (from torch==2.1.1) (2.11.3)\n",
      "Requirement already satisfied: typing-extensions in c:\\users\\moise niyonkuru\\anaconda3\\lib\\site-packages (from torch==2.1.1) (4.1.1)\n",
      "Requirement already satisfied: sympy in c:\\users\\moise niyonkuru\\anaconda3\\lib\\site-packages (from torch==2.1.1) (1.10.1)\n",
      "Requirement already satisfied: networkx in c:\\users\\moise niyonkuru\\anaconda3\\lib\\site-packages (from torch==2.1.1) (2.7.1)\n",
      "Requirement already satisfied: MarkupSafe>=0.23 in c:\\users\\moise niyonkuru\\anaconda3\\lib\\site-packages (from jinja2->torch==2.1.1) (2.0.1)\n",
      "Requirement already satisfied: mpmath>=0.19 in c:\\users\\moise niyonkuru\\anaconda3\\lib\\site-packages (from sympy->torch==2.1.1) (1.2.1)\n"
     ]
    }
   ],
   "source": [
    "!pip install torch==2.1.1"
   ]
  },
  {
   "cell_type": "code",
   "execution_count": null,
   "id": "19d8119e",
   "metadata": {},
   "outputs": [],
   "source": [
    "import pandas as pd\n",
    "from sklearn.linear_model import LinearRegression\n",
    "from sklearn.ensemble import RandomForestRegressor\n",
    "from sklearn.model_selection import train_test_split\n",
    "from sklearn.metrics import mean_squared_error, r2_score\n",
    "import numpy as np\n",
    "import matplotlib.pyplot as plt\n",
    "import os                       # for working with files\n",
    "import os\n",
    "from PIL import Image\n",
    "import numpy as np"
   ]
  }
 ],
 "metadata": {
  "kernelspec": {
   "display_name": "Python 3 (ipykernel)",
   "language": "python",
   "name": "python3"
  },
  "language_info": {
   "codemirror_mode": {
    "name": "ipython",
    "version": 3
   },
   "file_extension": ".py",
   "mimetype": "text/x-python",
   "name": "python",
   "nbconvert_exporter": "python",
   "pygments_lexer": "ipython3",
   "version": "3.9.12"
  }
 },
 "nbformat": 4,
 "nbformat_minor": 5
}
