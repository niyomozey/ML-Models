{
 "cells": [
  {
   "cell_type": "markdown",
   "id": "f8e505cd",
   "metadata": {},
   "source": [
    "## Dependencies"
   ]
  },
  {
   "cell_type": "code",
   "execution_count": 17,
   "id": "14287ef1",
   "metadata": {},
   "outputs": [
    {
     "name": "stdout",
     "output_type": "stream",
     "text": [
      "Requirement already satisfied: torch==2.1.1 in c:\\users\\moise niyonkuru\\anaconda3\\lib\\site-packages (2.1.1)\n",
      "Requirement already satisfied: typing-extensions in c:\\users\\moise niyonkuru\\anaconda3\\lib\\site-packages (from torch==2.1.1) (4.1.1)\n",
      "Requirement already satisfied: sympy in c:\\users\\moise niyonkuru\\anaconda3\\lib\\site-packages (from torch==2.1.1) (1.10.1)\n",
      "Requirement already satisfied: jinja2 in c:\\users\\moise niyonkuru\\anaconda3\\lib\\site-packages (from torch==2.1.1) (2.11.3)\n",
      "Requirement already satisfied: filelock in c:\\users\\moise niyonkuru\\anaconda3\\lib\\site-packages (from torch==2.1.1) (3.6.0)\n",
      "Requirement already satisfied: networkx in c:\\users\\moise niyonkuru\\anaconda3\\lib\\site-packages (from torch==2.1.1) (2.7.1)\n",
      "Requirement already satisfied: fsspec in c:\\users\\moise niyonkuru\\anaconda3\\lib\\site-packages (from torch==2.1.1) (2022.2.0)\n",
      "Requirement already satisfied: MarkupSafe>=0.23 in c:\\users\\moise niyonkuru\\anaconda3\\lib\\site-packages (from jinja2->torch==2.1.1) (2.0.1)\n",
      "Requirement already satisfied: mpmath>=0.19 in c:\\users\\moise niyonkuru\\anaconda3\\lib\\site-packages (from sympy->torch==2.1.1) (1.2.1)\n"
     ]
    }
   ],
   "source": [
    "!pip install torch==2.1.1"
   ]
  },
  {
   "cell_type": "code",
   "execution_count": 22,
   "id": "b9e2526a",
   "metadata": {},
   "outputs": [
    {
     "name": "stdout",
     "output_type": "stream",
     "text": [
      "Collecting torchvision\n",
      "  Using cached torchvision-0.17.1-cp39-cp39-win_amd64.whl (1.2 MB)\n",
      "Requirement already satisfied: torch==2.2.1 in c:\\users\\moise niyonkuru\\anaconda3\\lib\\site-packages (from torchvision) (2.2.1)\n",
      "Requirement already satisfied: pillow!=8.3.*,>=5.3.0 in c:\\users\\moise niyonkuru\\anaconda3\\lib\\site-packages (from torchvision) (9.0.1)\n",
      "Requirement already satisfied: numpy in c:\\users\\moise niyonkuru\\anaconda3\\lib\\site-packages (from torchvision) (1.22.4)\n",
      "Requirement already satisfied: filelock in c:\\users\\moise niyonkuru\\anaconda3\\lib\\site-packages (from torch==2.2.1->torchvision) (3.6.0)\n",
      "Requirement already satisfied: networkx in c:\\users\\moise niyonkuru\\anaconda3\\lib\\site-packages (from torch==2.2.1->torchvision) (2.7.1)\n",
      "Requirement already satisfied: sympy in c:\\users\\moise niyonkuru\\anaconda3\\lib\\site-packages (from torch==2.2.1->torchvision) (1.10.1)\n",
      "Requirement already satisfied: jinja2 in c:\\users\\moise niyonkuru\\anaconda3\\lib\\site-packages (from torch==2.2.1->torchvision) (2.11.3)\n",
      "Requirement already satisfied: fsspec in c:\\users\\moise niyonkuru\\anaconda3\\lib\\site-packages (from torch==2.2.1->torchvision) (2022.2.0)\n",
      "Requirement already satisfied: typing-extensions>=4.8.0 in c:\\users\\moise niyonkuru\\anaconda3\\lib\\site-packages (from torch==2.2.1->torchvision) (4.9.0)\n",
      "Requirement already satisfied: MarkupSafe>=0.23 in c:\\users\\moise niyonkuru\\anaconda3\\lib\\site-packages (from jinja2->torch==2.2.1->torchvision) (2.0.1)\n",
      "Requirement already satisfied: mpmath>=0.19 in c:\\users\\moise niyonkuru\\anaconda3\\lib\\site-packages (from sympy->torch==2.2.1->torchvision) (1.2.1)\n",
      "Installing collected packages: torchvision\n",
      "Successfully installed torchvision-0.17.1\n"
     ]
    },
    {
     "name": "stderr",
     "output_type": "stream",
     "text": [
      "WARNING: Ignoring invalid distribution -orch (c:\\users\\moise niyonkuru\\anaconda3\\lib\\site-packages)\n",
      "WARNING: Ignoring invalid distribution -orch (c:\\users\\moise niyonkuru\\anaconda3\\lib\\site-packages)\n",
      "WARNING: Ignoring invalid distribution -orch (c:\\users\\moise niyonkuru\\anaconda3\\lib\\site-packages)\n",
      "WARNING: Ignoring invalid distribution -orch (c:\\users\\moise niyonkuru\\anaconda3\\lib\\site-packages)\n",
      "WARNING: Ignoring invalid distribution -orch (c:\\users\\moise niyonkuru\\anaconda3\\lib\\site-packages)\n",
      "WARNING: Ignoring invalid distribution -orch (c:\\users\\moise niyonkuru\\anaconda3\\lib\\site-packages)\n",
      "WARNING: Ignoring invalid distribution -orch (c:\\users\\moise niyonkuru\\anaconda3\\lib\\site-packages)\n"
     ]
    }
   ],
   "source": [
    "!pip install torchvision"
   ]
  },
  {
   "cell_type": "code",
   "execution_count": 1,
   "id": "19d8119e",
   "metadata": {},
   "outputs": [],
   "source": [
    "import pandas as pd\n",
    "from sklearn.linear_model import LinearRegression\n",
    "from sklearn.ensemble import RandomForestRegressor\n",
    "from sklearn.model_selection import train_test_split\n",
    "from sklearn.metrics import mean_squared_error, r2_score\n",
    "import numpy as np\n",
    "import matplotlib.pyplot as plt\n",
    "import os                       # for working with files\n",
    "from PIL import Image\n",
    "import numpy as np\n",
    "import torch                    # Pytorch module \n",
    "import matplotlib.pyplot as plt # for plotting informations on graph and images using tensors\n",
    "import torch.nn as nn           # for creating  neural networks\n",
    "from torch.utils.data import DataLoader # for dataloaders \n",
    "from PIL import Image           # for checking images\n",
    "import torch.nn.functional as F # for functions for calculating loss\n",
    "import torchvision.transforms as transforms   # for transforming images into tensors \n",
    "from torchvision.utils import make_grid       # for data checking\n",
    "from torchvision.datasets import ImageFolder  # for working with classes and images"
   ]
  },
  {
   "cell_type": "code",
   "execution_count": 3,
   "id": "a75e73f3",
   "metadata": {},
   "outputs": [
    {
     "name": "stdout",
     "output_type": "stream",
     "text": [
      "2.2.1+cpu\n",
      "False\n"
     ]
    }
   ],
   "source": [
    "# Verify if torch is installed\n",
    "import torch\n",
    "print(torch.__version__)\n",
    "print(torch.cuda.is_available())"
   ]
  },
  {
   "cell_type": "markdown",
   "id": "b16179bf",
   "metadata": {},
   "source": [
    "#  Explore the dataset"
   ]
  },
  {
   "cell_type": "markdown",
   "id": "4fc50ec0",
   "metadata": {},
   "source": [
    "###  Load the dataset"
   ]
  },
  {
   "cell_type": "code",
   "execution_count": 4,
   "id": "67d90de7",
   "metadata": {},
   "outputs": [
    {
     "data": {
      "text/plain": [
       "['Apple___Apple_scab',\n",
       " 'Apple___Black_rot',\n",
       " 'Apple___Cedar_apple_rust',\n",
       " 'Apple___healthy',\n",
       " 'Blueberry___healthy',\n",
       " 'Cherry_(including_sour)___healthy',\n",
       " 'Cherry_(including_sour)___Powdery_mildew',\n",
       " 'Corn_(maize)___Cercospora_leaf_spot Gray_leaf_spot',\n",
       " 'Corn_(maize)___Common_rust_',\n",
       " 'Corn_(maize)___healthy',\n",
       " 'Corn_(maize)___Northern_Leaf_Blight',\n",
       " 'Grape___Black_rot',\n",
       " 'Grape___Esca_(Black_Measles)',\n",
       " 'Grape___healthy',\n",
       " 'Grape___Leaf_blight_(Isariopsis_Leaf_Spot)',\n",
       " 'Orange___Haunglongbing_(Citrus_greening)',\n",
       " 'Peach___Bacterial_spot',\n",
       " 'Peach___healthy',\n",
       " 'Pepper,_bell___Bacterial_spot',\n",
       " 'Pepper,_bell___healthy',\n",
       " 'Potato___Early_blight',\n",
       " 'Potato___healthy',\n",
       " 'Potato___Late_blight',\n",
       " 'Raspberry___healthy',\n",
       " 'Soybean___healthy',\n",
       " 'Squash___Powdery_mildew',\n",
       " 'Strawberry___healthy',\n",
       " 'Strawberry___Leaf_scorch',\n",
       " 'Tomato___Bacterial_spot',\n",
       " 'Tomato___Early_blight',\n",
       " 'Tomato___healthy',\n",
       " 'Tomato___Late_blight',\n",
       " 'Tomato___Leaf_Mold',\n",
       " 'Tomato___Septoria_leaf_spot',\n",
       " 'Tomato___Spider_mites Two-spotted_spider_mite',\n",
       " 'Tomato___Target_Spot',\n",
       " 'Tomato___Tomato_mosaic_virus',\n",
       " 'Tomato___Tomato_Yellow_Leaf_Curl_Virus']"
      ]
     },
     "execution_count": 4,
     "metadata": {},
     "output_type": "execute_result"
    }
   ],
   "source": [
    "# data_dir = './Dataset for Crop Pest and Disease Detection/CCMT Dataset-Augmented'\n",
    "data_dir = './archive/New Plant Diseases Dataset(Augmented)/New Plant Diseases Dataset(Augmented)/'\n",
    "train_dir = data_dir + 'train'\n",
    "test_dir = data_dir + 'valid'\n",
    "data = os.listdir(train_dir)\n",
    "diseases = []\n",
    "for crop in data:\n",
    "    diseases.append(crop)\n",
    "    # if os.path.isdir(data_dir+'/'+crop):\n",
    "    #     diseases.append(os.listdir(data_dir+'/'+crop))\n",
    "diseases"
   ]
  },
  {
   "cell_type": "code",
   "execution_count": 5,
   "id": "9677a37a",
   "metadata": {},
   "outputs": [
    {
     "name": "stdout",
     "output_type": "stream",
     "text": [
      "Total disease classes are: 38\n"
     ]
    }
   ],
   "source": [
    "print(\"Total disease classes are: {}\".format(len(diseases)))"
   ]
  },
  {
   "cell_type": "markdown",
   "id": "c9297dd9",
   "metadata": {},
   "source": [
    "### Visualize images available for our datasets"
   ]
  },
  {
   "cell_type": "code",
   "execution_count": 6,
   "id": "f5e1d5f2",
   "metadata": {},
   "outputs": [
    {
     "data": {
      "text/html": [
       "<div>\n",
       "<style scoped>\n",
       "    .dataframe tbody tr th:only-of-type {\n",
       "        vertical-align: middle;\n",
       "    }\n",
       "\n",
       "    .dataframe tbody tr th {\n",
       "        vertical-align: top;\n",
       "    }\n",
       "\n",
       "    .dataframe thead th {\n",
       "        text-align: right;\n",
       "    }\n",
       "</style>\n",
       "<table border=\"1\" class=\"dataframe\">\n",
       "  <thead>\n",
       "    <tr style=\"text-align: right;\">\n",
       "      <th></th>\n",
       "      <th>no. of images</th>\n",
       "    </tr>\n",
       "  </thead>\n",
       "  <tbody>\n",
       "    <tr>\n",
       "      <th>Apple___Apple_scab</th>\n",
       "      <td>2016</td>\n",
       "    </tr>\n",
       "    <tr>\n",
       "      <th>Apple___Black_rot</th>\n",
       "      <td>1987</td>\n",
       "    </tr>\n",
       "    <tr>\n",
       "      <th>Apple___Cedar_apple_rust</th>\n",
       "      <td>1760</td>\n",
       "    </tr>\n",
       "    <tr>\n",
       "      <th>Apple___healthy</th>\n",
       "      <td>2008</td>\n",
       "    </tr>\n",
       "    <tr>\n",
       "      <th>Blueberry___healthy</th>\n",
       "      <td>1816</td>\n",
       "    </tr>\n",
       "    <tr>\n",
       "      <th>Cherry_(including_sour)___healthy</th>\n",
       "      <td>1826</td>\n",
       "    </tr>\n",
       "    <tr>\n",
       "      <th>Cherry_(including_sour)___Powdery_mildew</th>\n",
       "      <td>1683</td>\n",
       "    </tr>\n",
       "    <tr>\n",
       "      <th>Corn_(maize)___Cercospora_leaf_spot Gray_leaf_spot</th>\n",
       "      <td>1642</td>\n",
       "    </tr>\n",
       "    <tr>\n",
       "      <th>Corn_(maize)___Common_rust_</th>\n",
       "      <td>1907</td>\n",
       "    </tr>\n",
       "    <tr>\n",
       "      <th>Corn_(maize)___healthy</th>\n",
       "      <td>1859</td>\n",
       "    </tr>\n",
       "    <tr>\n",
       "      <th>Corn_(maize)___Northern_Leaf_Blight</th>\n",
       "      <td>1908</td>\n",
       "    </tr>\n",
       "    <tr>\n",
       "      <th>Grape___Black_rot</th>\n",
       "      <td>1888</td>\n",
       "    </tr>\n",
       "    <tr>\n",
       "      <th>Grape___Esca_(Black_Measles)</th>\n",
       "      <td>1920</td>\n",
       "    </tr>\n",
       "    <tr>\n",
       "      <th>Grape___healthy</th>\n",
       "      <td>1692</td>\n",
       "    </tr>\n",
       "    <tr>\n",
       "      <th>Grape___Leaf_blight_(Isariopsis_Leaf_Spot)</th>\n",
       "      <td>1722</td>\n",
       "    </tr>\n",
       "    <tr>\n",
       "      <th>Orange___Haunglongbing_(Citrus_greening)</th>\n",
       "      <td>2010</td>\n",
       "    </tr>\n",
       "    <tr>\n",
       "      <th>Peach___Bacterial_spot</th>\n",
       "      <td>1838</td>\n",
       "    </tr>\n",
       "    <tr>\n",
       "      <th>Peach___healthy</th>\n",
       "      <td>1728</td>\n",
       "    </tr>\n",
       "    <tr>\n",
       "      <th>Pepper,_bell___Bacterial_spot</th>\n",
       "      <td>1913</td>\n",
       "    </tr>\n",
       "    <tr>\n",
       "      <th>Pepper,_bell___healthy</th>\n",
       "      <td>1988</td>\n",
       "    </tr>\n",
       "    <tr>\n",
       "      <th>Potato___Early_blight</th>\n",
       "      <td>1939</td>\n",
       "    </tr>\n",
       "    <tr>\n",
       "      <th>Potato___healthy</th>\n",
       "      <td>1824</td>\n",
       "    </tr>\n",
       "    <tr>\n",
       "      <th>Potato___Late_blight</th>\n",
       "      <td>1939</td>\n",
       "    </tr>\n",
       "    <tr>\n",
       "      <th>Raspberry___healthy</th>\n",
       "      <td>1781</td>\n",
       "    </tr>\n",
       "    <tr>\n",
       "      <th>Soybean___healthy</th>\n",
       "      <td>2022</td>\n",
       "    </tr>\n",
       "    <tr>\n",
       "      <th>Squash___Powdery_mildew</th>\n",
       "      <td>1736</td>\n",
       "    </tr>\n",
       "    <tr>\n",
       "      <th>Strawberry___healthy</th>\n",
       "      <td>1824</td>\n",
       "    </tr>\n",
       "    <tr>\n",
       "      <th>Strawberry___Leaf_scorch</th>\n",
       "      <td>1774</td>\n",
       "    </tr>\n",
       "    <tr>\n",
       "      <th>Tomato___Bacterial_spot</th>\n",
       "      <td>1702</td>\n",
       "    </tr>\n",
       "    <tr>\n",
       "      <th>Tomato___Early_blight</th>\n",
       "      <td>1920</td>\n",
       "    </tr>\n",
       "    <tr>\n",
       "      <th>Tomato___healthy</th>\n",
       "      <td>1926</td>\n",
       "    </tr>\n",
       "    <tr>\n",
       "      <th>Tomato___Late_blight</th>\n",
       "      <td>1851</td>\n",
       "    </tr>\n",
       "    <tr>\n",
       "      <th>Tomato___Leaf_Mold</th>\n",
       "      <td>1882</td>\n",
       "    </tr>\n",
       "    <tr>\n",
       "      <th>Tomato___Septoria_leaf_spot</th>\n",
       "      <td>1745</td>\n",
       "    </tr>\n",
       "    <tr>\n",
       "      <th>Tomato___Spider_mites Two-spotted_spider_mite</th>\n",
       "      <td>1741</td>\n",
       "    </tr>\n",
       "    <tr>\n",
       "      <th>Tomato___Target_Spot</th>\n",
       "      <td>1827</td>\n",
       "    </tr>\n",
       "    <tr>\n",
       "      <th>Tomato___Tomato_mosaic_virus</th>\n",
       "      <td>1790</td>\n",
       "    </tr>\n",
       "    <tr>\n",
       "      <th>Tomato___Tomato_Yellow_Leaf_Curl_Virus</th>\n",
       "      <td>1961</td>\n",
       "    </tr>\n",
       "  </tbody>\n",
       "</table>\n",
       "</div>"
      ],
      "text/plain": [
       "                                                    no. of images\n",
       "Apple___Apple_scab                                           2016\n",
       "Apple___Black_rot                                            1987\n",
       "Apple___Cedar_apple_rust                                     1760\n",
       "Apple___healthy                                              2008\n",
       "Blueberry___healthy                                          1816\n",
       "Cherry_(including_sour)___healthy                            1826\n",
       "Cherry_(including_sour)___Powdery_mildew                     1683\n",
       "Corn_(maize)___Cercospora_leaf_spot Gray_leaf_spot           1642\n",
       "Corn_(maize)___Common_rust_                                  1907\n",
       "Corn_(maize)___healthy                                       1859\n",
       "Corn_(maize)___Northern_Leaf_Blight                          1908\n",
       "Grape___Black_rot                                            1888\n",
       "Grape___Esca_(Black_Measles)                                 1920\n",
       "Grape___healthy                                              1692\n",
       "Grape___Leaf_blight_(Isariopsis_Leaf_Spot)                   1722\n",
       "Orange___Haunglongbing_(Citrus_greening)                     2010\n",
       "Peach___Bacterial_spot                                       1838\n",
       "Peach___healthy                                              1728\n",
       "Pepper,_bell___Bacterial_spot                                1913\n",
       "Pepper,_bell___healthy                                       1988\n",
       "Potato___Early_blight                                        1939\n",
       "Potato___healthy                                             1824\n",
       "Potato___Late_blight                                         1939\n",
       "Raspberry___healthy                                          1781\n",
       "Soybean___healthy                                            2022\n",
       "Squash___Powdery_mildew                                      1736\n",
       "Strawberry___healthy                                         1824\n",
       "Strawberry___Leaf_scorch                                     1774\n",
       "Tomato___Bacterial_spot                                      1702\n",
       "Tomato___Early_blight                                        1920\n",
       "Tomato___healthy                                             1926\n",
       "Tomato___Late_blight                                         1851\n",
       "Tomato___Leaf_Mold                                           1882\n",
       "Tomato___Septoria_leaf_spot                                  1745\n",
       "Tomato___Spider_mites Two-spotted_spider_mite                1741\n",
       "Tomato___Target_Spot                                         1827\n",
       "Tomato___Tomato_mosaic_virus                                 1790\n",
       "Tomato___Tomato_Yellow_Leaf_Curl_Virus                       1961"
      ]
     },
     "execution_count": 6,
     "metadata": {},
     "output_type": "execute_result"
    }
   ],
   "source": [
    "# Number of images for each disease\n",
    "nums = {}\n",
    "for disease in diseases:\n",
    "    nums[disease] = len(os.listdir(train_dir + '/' + disease))\n",
    "    \n",
    "# converting the nums dictionary to pandas dataframe passing index as plant name and number of images as column\n",
    "\n",
    "img_per_class = pd.DataFrame(nums.values(), index=nums.keys(), columns=[\"no. of images\"])\n",
    "img_per_class "
   ]
  },
  {
   "cell_type": "code",
   "execution_count": 7,
   "id": "f78132a8",
   "metadata": {},
   "outputs": [
    {
     "data": {
      "text/plain": [
       "Text(0.5, 1.0, 'Images per each class of plant disease')"
      ]
     },
     "execution_count": 7,
     "metadata": {},
     "output_type": "execute_result"
    },
    {
     "data": {
      "image/png": "[encoded data removed]",
      "text/plain": [
       "<Figure size 1440x360 with 1 Axes>"
      ]
     },
     "metadata": {
      "needs_background": "light"
     },
     "output_type": "display_data"
    }
   ],
   "source": [
    "# plotting number of images available for each disease\n",
    "index = [n for n in range(38)]\n",
    "plt.figure(figsize=(20, 5))\n",
    "plt.bar(index, [n for n in nums.values()], width=0.3)\n",
    "plt.xlabel('Plants/Diseases', fontsize=10)\n",
    "plt.ylabel('No of images available', fontsize=10)\n",
    "plt.xticks(index, diseases, fontsize=5, rotation=90)\n",
    "plt.title('Images per each class of plant disease')"
   ]
  },
  {
   "cell_type": "code",
   "execution_count": 8,
   "id": "f25a38be",
   "metadata": {},
   "outputs": [
    {
     "name": "stdout",
     "output_type": "stream",
     "text": [
      "There are 70295 images for training\n"
     ]
    }
   ],
   "source": [
    "# Images available for training\n",
    "n_train = 0\n",
    "for value in nums.values():\n",
    "    n_train += value\n",
    "print(f\"There are {n_train} images for training\")"
   ]
  },
  {
   "cell_type": "markdown",
   "id": "5e3726b7",
   "metadata": {},
   "source": [
    "## Data Preparation for training "
   ]
  },
  {
   "cell_type": "code",
   "execution_count": 10,
   "id": "182019a2",
   "metadata": {},
   "outputs": [],
   "source": [
    "# datasets for validation and training\n",
    "train = ImageFolder(train_dir, transform = transforms.ToTensor())\n",
    "test = ImageFolder(test_dir, transform = transforms.ToTensor())"
   ]
  },
  {
   "cell_type": "code",
   "execution_count": 12,
   "id": "38f2a2d8",
   "metadata": {},
   "outputs": [
    {
     "name": "stdout",
     "output_type": "stream",
     "text": [
      "torch.Size([3, 256, 256]) 0\n"
     ]
    },
    {
     "data": {
      "text/plain": [
       "Dataset ImageFolder\n",
       "    Number of datapoints: 70295\n",
       "    Root location: ./archive/New Plant Diseases Dataset(Augmented)/New Plant Diseases Dataset(Augmented)/train\n",
       "    StandardTransform\n",
       "Transform: ToTensor()"
      ]
     },
     "execution_count": 12,
     "metadata": {},
     "output_type": "execute_result"
    }
   ],
   "source": [
    "img, label = train[0]\n",
    "print(img.shape, label)\n",
    "train"
   ]
  },
  {
   "cell_type": "code",
   "execution_count": null,
   "id": "8e3a1f2c",
   "metadata": {},
   "outputs": [],
   "source": [
    "# for checking some images from training dataset\n",
    "def show_image(image, label):\n",
    "    print(\"Label :\" + train.classes[label] + \"(\" + str(label) + \")\")\n",
    "    plt.imshow(image.permute(1, 2, 0))"
   ]
  }
 ],
 "metadata": {
  "kernelspec": {
   "display_name": "Python 3 (ipykernel)",
   "language": "python",
   "name": "python3"
  },
  "language_info": {
   "codemirror_mode": {
    "name": "ipython",
    "version": 3
   },
   "file_extension": ".py",
   "mimetype": "text/x-python",
   "name": "python",
   "nbconvert_exporter": "python",
   "pygments_lexer": "ipython3",
   "version": "3.9.12"
  }
 },
 "nbformat": 4,
 "nbformat_minor": 5
}
